{
 "cells": [
  {
   "cell_type": "code",
   "execution_count": 7,
   "metadata": {},
   "outputs": [],
   "source": [
    "import numpy as np\n",
    "import os\n",
    "import cv2\n",
    "from tqdm import tqdm\n",
    "import math\n",
    "import matplotlib.pyplot as plt\n",
    "import glob"
   ]
  },
  {
   "cell_type": "code",
   "execution_count": 8,
   "metadata": {},
   "outputs": [
    {
     "name": "stdout",
     "output_type": "stream",
     "text": [
      "93\n",
      "93\n"
     ]
    }
   ],
   "source": [
    "path = 'test_results_Sony/'\n",
    "file_path_gt = []\n",
    "file_path_out = []\n",
    "\n",
    "for img in os.listdir(path):\n",
    "    file_path = img\n",
    "    \n",
    "    if 'gt' in file_path:\n",
    "        file_path_gt.append(file_path)\n",
    "    elif 'out' in file_path:\n",
    "        file_path_out.append(file_path)\n",
    "    else:\n",
    "        continue\n",
    "        \n",
    "print(len(file_path_gt))\n",
    "print(len(file_path_out))"
   ]
  },
  {
   "cell_type": "code",
   "execution_count": 9,
   "metadata": {},
   "outputs": [
    {
     "name": "stdout",
     "output_type": "stream",
     "text": [
      "['10003_00_100_gt.png', '10003_00_250_gt.png', '10006_00_100_gt.png', '10006_00_250_gt.png', '10011_00_100_gt.png', '10011_00_250_gt.png', '10016_00_100_gt.png', '10016_00_250_gt.png', '10022_00_100_gt.png', '10022_00_250_gt.png', '10030_00_100_gt.png', '10030_00_250_gt.png', '10032_00_100_gt.png', '10032_00_250_gt.png', '10034_00_100_gt.png', '10034_00_250_gt.png', '10035_00_100_gt.png', '10035_00_250_gt.png', '10040_00_100_gt.png', '10040_00_250_gt.png', '10045_00_100_gt.png', '10045_00_250_gt.png', '10054_00_100_gt.png', '10054_00_250_gt.png', '10055_00_100_gt.png', '10055_00_250_gt.png', '10068_00_100_gt.png', '10068_00_250_gt.png', '10069_00_100_gt.png', '10069_00_250_gt.png', '10074_00_300_gt.png', '10077_00_300_gt.png', '10082_00_300_gt.png', '10087_00_300_gt.png', '10093_00_300_gt.png', '10101_00_300_gt.png', '10103_00_300_gt.png', '10105_00_300_gt.png', '10106_00_300_gt.png', '10111_00_300_gt.png', '10116_00_300_gt.png', '10125_00_300_gt.png', '10126_00_300_gt.png', '10139_00_300_gt.png', '10140_00_300_gt.png', '10162_00_300_gt.png', '10163_00_300_gt.png', '10167_00_300_gt.png', '10170_00_300_gt.png', '10172_00_300_gt.png', '10176_00_300_gt.png', '10178_00_100_gt.png', '10178_00_250_gt.png', '10178_00_300_gt.png', '10185_00_100_gt.png', '10185_00_250_gt.png', '10185_00_300_gt.png', '10187_00_100_gt.png', '10187_00_250_gt.png', '10187_00_300_gt.png', '10191_00_100_gt.png', '10191_00_250_gt.png', '10191_00_300_gt.png', '10192_00_100_gt.png', '10192_00_250_gt.png', '10192_00_300_gt.png', '10193_00_100_gt.png', '10193_00_250_gt.png', '10193_00_300_gt.png', '10198_00_100_gt.png', '10198_00_250_gt.png', '10198_00_300_gt.png', '10199_00_100_gt.png', '10199_00_250_gt.png', '10199_00_300_gt.png', '10203_00_100_gt.png', '10203_00_250_gt.png', '10203_00_300_gt.png', '10213_00_100_gt.png', '10213_00_250_gt.png', '10213_00_300_gt.png', '10217_00_100_gt.png', '10217_00_250_gt.png', '10217_00_300_gt.png', '10226_00_100_gt.png', '10226_00_250_gt.png', '10226_00_300_gt.png', '10227_00_100_gt.png', '10227_00_250_gt.png', '10227_00_300_gt.png', '10228_00_100_gt.png', '10228_00_250_gt.png', '10228_00_300_gt.png']\n",
      "['10003_00_100_out.png', '10003_00_250_out.png', '10006_00_100_out.png', '10006_00_250_out.png', '10011_00_100_out.png', '10011_00_250_out.png', '10016_00_100_out.png', '10016_00_250_out.png', '10022_00_100_out.png', '10022_00_250_out.png', '10030_00_100_out.png', '10030_00_250_out.png', '10032_00_100_out.png', '10032_00_250_out.png', '10034_00_100_out.png', '10034_00_250_out.png', '10035_00_100_out.png', '10035_00_250_out.png', '10040_00_100_out.png', '10040_00_250_out.png', '10045_00_100_out.png', '10045_00_250_out.png', '10054_00_100_out.png', '10054_00_250_out.png', '10055_00_100_out.png', '10055_00_250_out.png', '10068_00_100_out.png', '10068_00_250_out.png', '10069_00_100_out.png', '10069_00_250_out.png', '10074_00_300_out.png', '10077_00_300_out.png', '10082_00_300_out.png', '10087_00_300_out.png', '10093_00_300_out.png', '10101_00_300_out.png', '10103_00_300_out.png', '10105_00_300_out.png', '10106_00_300_out.png', '10111_00_300_out.png', '10116_00_300_out.png', '10125_00_300_out.png', '10126_00_300_out.png', '10139_00_300_out.png', '10140_00_300_out.png', '10162_00_300_out.png', '10163_00_300_out.png', '10167_00_300_out.png', '10170_00_300_out.png', '10172_00_300_out.png', '10176_00_300_out.png', '10178_00_100_out.png', '10178_00_250_out.png', '10178_00_300_out.png', '10185_00_100_out.png', '10185_00_250_out.png', '10185_00_300_out.png', '10187_00_100_out.png', '10187_00_250_out.png', '10187_00_300_out.png', '10191_00_100_out.png', '10191_00_250_out.png', '10191_00_300_out.png', '10192_00_100_out.png', '10192_00_250_out.png', '10192_00_300_out.png', '10193_00_100_out.png', '10193_00_250_out.png', '10193_00_300_out.png', '10198_00_100_out.png', '10198_00_250_out.png', '10198_00_300_out.png', '10199_00_100_out.png', '10199_00_250_out.png', '10199_00_300_out.png', '10203_00_100_out.png', '10203_00_250_out.png', '10203_00_300_out.png', '10213_00_100_out.png', '10213_00_250_out.png', '10213_00_300_out.png', '10217_00_100_out.png', '10217_00_250_out.png', '10217_00_300_out.png', '10226_00_100_out.png', '10226_00_250_out.png', '10226_00_300_out.png', '10227_00_100_out.png', '10227_00_250_out.png', '10227_00_300_out.png', '10228_00_100_out.png', '10228_00_250_out.png', '10228_00_300_out.png']\n"
     ]
    }
   ],
   "source": [
    "file_path_gt.sort()\n",
    "file_path_out.sort()\n",
    "\n",
    "print(file_path_gt)\n",
    "print(file_path_out)"
   ]
  },
  {
   "cell_type": "code",
   "execution_count": 10,
   "metadata": {},
   "outputs": [],
   "source": [
    "def calc_psnr(img1, img2):\n",
    "    img1 = img1.astype(np.float64)\n",
    "    img2 = img2.astype(np.float64)\n",
    "    if img1.ndim == 2:\n",
    "        mse = np.mean((img1 - img2)**2)\n",
    "    elif img1.ndim == 3:\n",
    "        mse1 = np.mean((img1[:,:,0] - img2[:,:,0])**2)\n",
    "        mse2 = np.mean((img1[:,:,1] - img2[:,:,1])**2)\n",
    "        mse3 = np.mean((img1[:,:,2] - img2[:,:,2])**2)\n",
    "        mse = (mse1 + mse2 + mse3)/3\n",
    "    if mse == 0:\n",
    "        return float('inf')\n",
    "    psnr = 20 * math.log10(255.0 / math.sqrt(mse))\n",
    "    return psnr"
   ]
  },
  {
   "cell_type": "code",
   "execution_count": 11,
   "metadata": {},
   "outputs": [
    {
     "name": "stderr",
     "output_type": "stream",
     "text": [
      "100%|██████████| 93/93 [02:06<00:00,  1.36s/it]"
     ]
    },
    {
     "name": "stdout",
     "output_type": "stream",
     "text": [
      "24.84174882586936\n"
     ]
    },
    {
     "name": "stderr",
     "output_type": "stream",
     "text": [
      "\n"
     ]
    }
   ],
   "source": [
    "psnr_fin = 0\n",
    "\n",
    "for i in tqdm(range(len(file_path_gt))):\n",
    "    path1 = file_path_gt[i]\n",
    "    path2 = file_path_out[i]\n",
    "    \n",
    "    img1 = cv2.imread(os.path.join(path,path1))\n",
    "    img2 = cv2.imread(os.path.join(path,path2))\n",
    "    psnr_fin += calc_psnr(img1, img2)\n",
    "    \n",
    "psnr_fin = (psnr_fin)/(len(file_path_gt))\n",
    "print(psnr_fin)"
   ]
  },
  {
   "cell_type": "code",
   "execution_count": 12,
   "metadata": {},
   "outputs": [],
   "source": [
    "def ssim(img1, img2):\n",
    "    C1 = (0.01 * 255)**2\n",
    "    C2 = (0.03 * 255)**2\n",
    "\n",
    "    img1 = img1.astype(np.float64)\n",
    "    img2 = img2.astype(np.float64)\n",
    "    kernel = cv2.getGaussianKernel(11, 1.5)\n",
    "    window = np.outer(kernel, kernel.transpose())\n",
    "\n",
    "    mu1 = cv2.filter2D(img1, -1, window)[5:-5, 5:-5]\n",
    "    mu2 = cv2.filter2D(img2, -1, window)[5:-5, 5:-5]\n",
    "    mu1_sq = mu1**2\n",
    "    mu2_sq = mu2**2\n",
    "    mu1_mu2 = mu1 * mu2\n",
    "    sigma1_sq = cv2.filter2D(img1**2, -1, window)[5:-5, 5:-5] - mu1_sq\n",
    "    sigma2_sq = cv2.filter2D(img2**2, -1, window)[5:-5, 5:-5] - mu2_sq\n",
    "    sigma12 = cv2.filter2D(img1 * img2, -1, window)[5:-5, 5:-5] - mu1_mu2\n",
    "\n",
    "    ssim_map = ((2 * mu1_mu2 + C1) * (2 * sigma12 + C2)) / ((mu1_sq + mu2_sq + C1) *\n",
    "                                                            (sigma1_sq + sigma2_sq + C2))\n",
    "    return ssim_map.mean()"
   ]
  },
  {
   "cell_type": "code",
   "execution_count": 13,
   "metadata": {},
   "outputs": [],
   "source": [
    "def calc_ssim(img1, img2):\n",
    "    if not img1.shape == img2.shape:\n",
    "        raise ValueError('Input images must have the same dimensions.')\n",
    "    if img1.ndim == 2:\n",
    "        return ssim(img1, img2)\n",
    "    elif img1.ndim == 3:\n",
    "        if img1.shape[2] == 3:\n",
    "            ssims = []\n",
    "            for i in range(3):\n",
    "                ssims.append(ssim(img1, img2))\n",
    "            return np.array(ssims).mean()\n",
    "        elif img1.shape[2] == 1:\n",
    "            return ssim(np.squeeze(img1), np.squeeze(img2))\n",
    "    else:\n",
    "        raise ValueError('Wrong input image dimensions.')"
   ]
  },
  {
   "cell_type": "code",
   "execution_count": 14,
   "metadata": {},
   "outputs": [
    {
     "name": "stderr",
     "output_type": "stream",
     "text": [
      "100%|██████████| 93/93 [24:56<00:00, 16.09s/it]"
     ]
    },
    {
     "name": "stdout",
     "output_type": "stream",
     "text": [
      "0.6489079481518409\n"
     ]
    },
    {
     "name": "stderr",
     "output_type": "stream",
     "text": [
      "\n"
     ]
    }
   ],
   "source": [
    "ssim_fin = 0\n",
    "\n",
    "for i in tqdm(range(len(file_path_gt))):\n",
    "    path1 = file_path_gt[i]\n",
    "    path2 = file_path_out[i]\n",
    "    \n",
    "    img1 = cv2.imread(os.path.join(path,path1))\n",
    "    img2 = cv2.imread(os.path.join(path,path2))\n",
    "    ssim_fin += calc_ssim(img1, img2)\n",
    "    \n",
    "ssim_fin = (ssim_fin)/(len(file_path_gt))\n",
    "print(ssim_fin)"
   ]
  },
  {
   "cell_type": "code",
   "execution_count": null,
   "metadata": {},
   "outputs": [],
   "source": []
  }
 ],
 "metadata": {
  "kernelspec": {
   "display_name": "Python 3",
   "language": "python",
   "name": "python3"
  },
  "language_info": {
   "codemirror_mode": {
    "name": "ipython",
    "version": 3
   },
   "file_extension": ".py",
   "mimetype": "text/x-python",
   "name": "python",
   "nbconvert_exporter": "python",
   "pygments_lexer": "ipython3",
   "version": "3.6.9"
  }
 },
 "nbformat": 4,
 "nbformat_minor": 4
}
